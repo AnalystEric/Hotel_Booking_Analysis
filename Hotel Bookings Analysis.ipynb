import pandas as pd
import matplotlib.pyplot as plt
from IPython.display import display, HTML
